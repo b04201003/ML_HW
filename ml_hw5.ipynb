{
 "cells": [
  {
   "cell_type": "code",
   "execution_count": 1,
   "metadata": {},
   "outputs": [
    {
     "data": {
      "text/html": [
       "<style>.container { width:100% !important; }</style>"
      ],
      "text/plain": [
       "<IPython.core.display.HTML object>"
      ]
     },
     "metadata": {},
     "output_type": "display_data"
    }
   ],
   "source": [
    "import pandas as pd\n",
    "import numpy as np\n",
    "import datetime as dt\n",
    "import matplotlib.pyplot as plt\n",
    "import warnings\n",
    "warnings.simplefilter(\"ignore\")\n",
    "from IPython.core.display import display, HTML\n",
    "display(HTML(\"<style>.container { width:100% !important; }</style>\"))\n",
    "pd.set_option('display.max_rows', 500)\n",
    "pd.set_option('display.max_columns', 500)\n",
    "pd.set_option('display.width', 1000)"
   ]
  },
  {
   "cell_type": "code",
   "execution_count": 4,
   "metadata": {},
   "outputs": [
    {
     "name": "stdout",
     "output_type": "stream",
     "text": [
      "iteration : 0, x : 2.61, 0\n",
      "iteration : 1, x : 1.67, 0\n",
      "iteration : 2, x : 1.35, 0\n",
      "iteration : 3, x : 0.71, 0\n",
      "iteration : 4, x : 0.1, 0\n",
      "iteration : 5, x : 1.2, 0\n",
      "iteration : 6, x : -2.22, 0\n",
      "iteration : 7, x : 3.23, 0\n",
      "iteration : 8, x : -0.83, 0\n",
      "iteration : 9, x : -1.75, 0\n",
      "iteration : 10, x : -0.63, 0\n",
      "iteration : 11, x : -0.06, 0\n",
      "iteration : 12, x : 1.78, 0\n",
      "iteration : 13, x : 0.32, 0\n",
      "iteration : 14, x : 2.97, 0\n",
      "iteration : 15, x : -0.87, 0\n",
      "iteration : 16, x : 3.58, 0\n",
      "iteration : 17, x : 1.36, 0\n",
      "iteration : 18, x : -1.46, 0\n",
      "iteration : 19, x : 1.37, 0\n",
      "iteration : 20, x : 1.08, 0\n",
      "iteration : 21, x : 3.43, 0\n",
      "iteration : 22, x : -2.24, 0\n",
      "iteration : 23, x : 0.41, 0\n",
      "iteration : 24, x : -2.97, 0\n",
      "iteration : 25, x : -0.31, 0\n",
      "iteration : 26, x : -2.2, 0\n",
      "iteration : 27, x : 1.27, 0\n",
      "iteration : 28, x : -2.2, 0\n",
      "iteration : 29, x : -3.2, 0\n",
      "sum1 = 0.0, sum2 = 0.0\n",
      "iteration : 0, w1 : -0.03, w0 : -0.14, sum1 : -4.06, sum2 : -15.09, sum_en : 20.98\n",
      "iteration : 10, w1 : -0.09, w0 : -1.16, sum1 : 0.08, sum2 : -7.47, sum_en : 8.62\n",
      "iteration : 20, w1 : -0.08, w0 : -1.73, sum1 : 0.07, sum2 : -4.63, sum_en : 5.04\n",
      "iteration : 30, w1 : -0.08, w0 : -2.12, sum1 : 0.04, sum2 : -3.29, sum_en : 3.49\n",
      "iteration : 40, w1 : -0.08, w0 : -2.4, sum1 : 0.02, sum2 : -2.53, sum_en : 2.64\n",
      "iteration : 50, w1 : -0.07, w0 : -2.63, sum1 : 0.01, sum2 : -2.05, sum_en : 2.12\n",
      "iteration : 60, w1 : -0.07, w0 : -2.81, sum1 : 0.01, sum2 : -1.71, sum_en : 1.77\n",
      "iteration : 70, w1 : -0.07, w0 : -2.97, sum1 : 0.01, sum2 : -1.47, sum_en : 1.51\n",
      "iteration : 80, w1 : -0.07, w0 : -3.11, sum1 : 0.01, sum2 : -1.29, sum_en : 1.32\n",
      "iteration : 90, w1 : -0.07, w0 : -3.23, sum1 : 0.0, sum2 : -1.15, sum_en : 1.17\n",
      "final_result: w1 : -0.07, w0 : -3.32\n"
     ]
    }
   ],
   "source": [
    "#initial parameters\n",
    "w1_set = 1.2\n",
    "w0_set = 0\n",
    "x = 0.0\n",
    "outcome = 0\n",
    "iteration_time = 30\n",
    "w1 = 0.01\n",
    "w0 = 0.01\n",
    "eta = 0.01\n",
    "x_record = []\n",
    "r_record = []\n",
    "\n",
    "#function\n",
    "def sigmod(x, w1, w0):\n",
    "    return 1/(1 + math.exp(-w1 * x - w0))\n",
    "\n",
    "def piecewise(x):\n",
    "    if x < 1:\n",
    "        return 0\n",
    "    elif x > 1 and x < 3:\n",
    "        return 0.5 * (x + 1)\n",
    "    elif x > 3:\n",
    "        return 1\n",
    "    else:\n",
    "        return None\n",
    "\n",
    "#\n",
    "for iteration in range(iteration_time):\n",
    "    x = random.uniform(-4,4)\n",
    "    zeta = random.uniform(0,1)\n",
    "    y = sigmod(x, w1_set, w0_set)\n",
    "    outcome = piecewise(y)\n",
    "    x_record.append(float(x))\n",
    "    r_record.append(float(outcome))\n",
    "    print('iteration : {}, x : {}, {}'.format(iteration, round(x,2), outcome))\n",
    "\n",
    "\n",
    "epoch = 100\n",
    "sum1 = 0.0\n",
    "sum2 = 0.0\n",
    "sum_en = 0.0\n",
    "print('sum1 = {}, sum2 = {}'.format(sum1, sum2))\n",
    "\n",
    "for iteration2 in range(epoch):\n",
    "    sum2 = 0.0\n",
    "    sum1 = 0.0\n",
    "    sum_en = 0.0\n",
    "    for i in range(30):\n",
    "        y = sigmod(x_record[i],w1,w0)\n",
    "        sum1 = sum1 + (r_record[i] - y) * x_record[i]\n",
    "        sum2 = sum2 + (r_record[i] - y)\n",
    "        #computing cross entropy\n",
    "        sum_en = sum_en - (r_record[i] * math.log(y) + (1 - r_record[i]) * math.log(1 - y))\n",
    "    w1 = w1 + eta * sum1\n",
    "    w0 = w0 + eta * sum2\n",
    "    if iteration2 % 10 == 0:\n",
    "        print('iteration : {}, w1 : {}, w0 : {}, sum1 : {}, sum2 : {}, sum_en : {}'.format(iteration2, round(w1,2), round(w0,2), round(sum1,2), round(sum2,2), round(sum_en,2)))\n",
    "print('final_result: w1 : {}, w0 : {}'.format(round(w1,2), round(w0,2)))"
   ]
  },
  {
   "cell_type": "code",
   "execution_count": 11,
   "metadata": {},
   "outputs": [],
   "source": [
    "#class 1 data is from Gaussian distribution with mean (0,0) and sigma 1\n",
    "#class 2 data is from Gaussian distribution with mean (2,0) and sigma 2\n",
    "#100 data points are generated\n",
    "#error rate for class 1 falling outside the circle is calculated\n",
    "#error rate for class 2 falling inside the circle is calculated\n",
    "#in the textbook error rate 1 = 0.1056 and out answer = 10%\n",
    "#in the textbook error rate 2 = 0.2642 and out answer = 26%"
   ]
  },
  {
   "cell_type": "code",
   "execution_count": 12,
   "metadata": {},
   "outputs": [
    {
     "name": "stdout",
     "output_type": "stream",
     "text": [
      "error_rate1 = 8\n",
      "error_rate2 = 25\n"
     ]
    }
   ],
   "source": [
    "import random\n",
    "x1_record = []\n",
    "x2_record = []\n",
    "x1 = 0.0\n",
    "x2 = 0.0\n",
    "y1 = 0.0\n",
    "y2 = 0.0\n",
    "count1_error = 0\n",
    "count2_error = 0\n",
    "\n",
    "#decision boundary\n",
    "\n",
    "for i in range(100):\n",
    "    x1 = random.gauss(0,1)\n",
    "    x2 = random.gauss(0,1)\n",
    "    x1_record.append(x1)\n",
    "    x2_record.append(x2)\n",
    "    if (x1 + 0.667)**2 + x2**2 > 2.34**2:\n",
    "        count1_error = count1_error + 1\n",
    "    else:\n",
    "        pass\n",
    "print('error_rate1 = {}'.format(count1_error))\n",
    "\n",
    "for i in range(100):\n",
    "    y1 = 2.0 + random.gauss(0,2)\n",
    "    y2 = 0.0 + random.gauss(0,2)\n",
    "    if (y1 + 0.667)**2 + y2**2 < 2.34**2:\n",
    "        count2_error = count2_error + 1\n",
    "    else:\n",
    "        pass\n",
    "print('error_rate2 = {}'.format(count2_error))"
   ]
  },
  {
   "cell_type": "code",
   "execution_count": null,
   "metadata": {},
   "outputs": [],
   "source": [
    "import random\n",
    "x1_record = []\n",
    "x2_record = []\n",
    "x1 = 0.0\n",
    "x2 = 0.0\n",
    "y1 = 0.0\n",
    "y2 = 0.0\n",
    "count1_error = 0\n",
    "count2_error = 0\n",
    "\n",
    "#decision boundary\n",
    "\n",
    "for i in range(100):\n",
    "    x1 = random.gauss(0,1)\n",
    "    x2 = random.gauss(0,1)\n",
    "    x1_record.append(x1)\n",
    "    x2_record.append(x2)\n",
    "    if (x1 + 0.667)**2 + x2**2 > 2.34**2:\n",
    "        count1_error = count1_error + 1\n",
    "    else:\n",
    "        pass\n",
    "print('error_rate1 = {}'.format(count1_error))\n",
    "\n",
    "for i in range(100):\n",
    "    y1 = 2.0 + random.gauss(0,2)\n",
    "    y2 = 0.0 + random.gauss(0,2)\n",
    "    if (y1 + 0.667)**2 + y2**2 < 2.34**2:\n",
    "        count2_error = count2_error + 1\n",
    "    else:\n",
    "        pass\n",
    "print('error_rate2 = {}'.format(count2_error))"
   ]
  }
 ],
 "metadata": {
  "kernelspec": {
   "display_name": "Python 3.6.9 64-bit",
   "language": "python",
   "name": "python3"
  },
  "language_info": {
   "codemirror_mode": {
    "name": "ipython",
    "version": 3
   },
   "file_extension": ".py",
   "mimetype": "text/x-python",
   "name": "python",
   "nbconvert_exporter": "python",
   "pygments_lexer": "ipython3",
   "version": "3.6.9"
  },
  "orig_nbformat": 4,
  "vscode": {
   "interpreter": {
    "hash": "31f2aee4e71d21fbe5cf8b01ff0e069b9275f58929596ceb00d14d90e3e16cd6"
   }
  }
 },
 "nbformat": 4,
 "nbformat_minor": 2
}
