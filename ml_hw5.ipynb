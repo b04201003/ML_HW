{
 "cells": [
  {
   "cell_type": "code",
   "execution_count": 8,
   "metadata": {},
   "outputs": [
    {
     "data": {
      "text/html": [
       "<style>.container { width:100% !important; }</style>"
      ],
      "text/plain": [
       "<IPython.core.display.HTML object>"
      ]
     },
     "metadata": {},
     "output_type": "display_data"
    }
   ],
   "source": [
    "import pandas as pd\n",
    "import numpy as np\n",
    "import datetime as dt\n",
    "import matplotlib.pyplot as plt\n",
    "import warnings\n",
    "warnings.simplefilter(\"ignore\")\n",
    "from IPython.core.display import display, HTML\n",
    "display(HTML(\"<style>.container { width:100% !important; }</style>\"))\n",
    "pd.set_option('display.max_rows', 500)\n",
    "pd.set_option('display.max_columns', 500)\n",
    "pd.set_option('display.width', 1000)"
   ]
  },
  {
   "cell_type": "code",
   "execution_count": 1,
   "metadata": {},
   "outputs": [],
   "source": [
    "import random\n",
    "import math\n",
    "w1_set = 1.2\n",
    "w0_set = 0\n",
    "x = 0.0\n",
    "outcome = 0\n",
    "w1 = 0.01\n",
    "w0 = 0.01\n",
    "eta = 0.01\n",
    "x_record = []\n",
    "r_record = []"
   ]
  },
  {
   "cell_type": "code",
   "execution_count": 10,
   "metadata": {},
   "outputs": [],
   "source": [
    "def sigmod(x, w1, w0):\n",
    "    return 1/(1 + math.exp(-w1 * x - w0))\n",
    "\n",
    "def piecewise(x):\n",
    "    if x < 1:\n",
    "        return 0\n",
    "    elif x > 1 and x < 3:\n",
    "        return 0.5 * (x + 1)\n",
    "    elif x > 3:\n",
    "        return 1\n",
    "    else:\n",
    "        return None"
   ]
  },
  {
   "cell_type": "code",
   "execution_count": 9,
   "metadata": {},
   "outputs": [
    {
     "name": "stdout",
     "output_type": "stream",
     "text": [
      "iteration : 0, x : -2.83, 0\n",
      "iteration : 1, x : -2.7, 0\n",
      "iteration : 2, x : 2.67, 1\n",
      "iteration : 3, x : 1.41, 1\n",
      "iteration : 4, x : 3.7, 1\n",
      "iteration : 5, x : 1.24, 1\n",
      "iteration : 6, x : 2.18, 1\n",
      "iteration : 7, x : -1.74, 0\n",
      "iteration : 8, x : -2.06, 0\n",
      "iteration : 9, x : 3.99, 1\n",
      "iteration : 10, x : 2.99, 1\n",
      "iteration : 11, x : -2.57, 0\n",
      "iteration : 12, x : 0.86, 0\n",
      "iteration : 13, x : 3.79, 1\n",
      "iteration : 14, x : 2.65, 1\n",
      "iteration : 15, x : 1.07, 0\n",
      "iteration : 16, x : 2.89, 1\n",
      "iteration : 17, x : -2.52, 0\n",
      "iteration : 18, x : -3.24, 0\n",
      "iteration : 19, x : -3.41, 0\n",
      "iteration : 20, x : -0.82, 0\n",
      "iteration : 21, x : -1.82, 0\n",
      "iteration : 22, x : 0.22, 1\n",
      "iteration : 23, x : 2.54, 1\n",
      "iteration : 24, x : -2.75, 0\n",
      "iteration : 25, x : -2.32, 0\n",
      "iteration : 26, x : -0.69, 1\n",
      "iteration : 27, x : -1.2, 0\n",
      "iteration : 28, x : -3.44, 0\n",
      "iteration : 29, x : 3.68, 1\n",
      "sum1 = 0.0, sum2 = 0.0\n",
      "iteration : 0, w1 : 1.97, w0 : -0.19, sum1 : 0.23, sum2 : 0.02, sum_en : 10.18\n",
      "iteration : 10, w1 : 1.99, w0 : -0.18, sum1 : 0.18, sum2 : 0.02, sum_en : 10.18\n",
      "iteration : 20, w1 : 2.0, w0 : -0.18, sum1 : 0.14, sum2 : 0.02, sum_en : 10.17\n",
      "iteration : 30, w1 : 2.02, w0 : -0.18, sum1 : 0.12, sum2 : 0.02, sum_en : 10.17\n",
      "iteration : 40, w1 : 2.03, w0 : -0.18, sum1 : 0.09, sum2 : 0.01, sum_en : 10.17\n",
      "iteration : 50, w1 : 2.04, w0 : -0.18, sum1 : 0.07, sum2 : 0.01, sum_en : 10.17\n",
      "iteration : 60, w1 : 2.04, w0 : -0.18, sum1 : 0.06, sum2 : 0.01, sum_en : 10.17\n",
      "iteration : 70, w1 : 2.05, w0 : -0.18, sum1 : 0.05, sum2 : 0.01, sum_en : 10.17\n",
      "iteration : 80, w1 : 2.05, w0 : -0.18, sum1 : 0.04, sum2 : 0.01, sum_en : 10.17\n",
      "iteration : 90, w1 : 2.05, w0 : -0.18, sum1 : 0.03, sum2 : 0.01, sum_en : 10.17\n",
      "final_result: w1 : 2.06, w0 : -0.18\n"
     ]
    }
   ],
   "source": [
    "#initial parameters\n",
    "w1_set = 1.2\n",
    "w0_set = 0\n",
    "x = 0.0\n",
    "outcome = 0\n",
    "iteration_time = 30\n",
    "w1 = 0.01\n",
    "w0 = 0.01\n",
    "eta = 0.01\n",
    "x_record = []\n",
    "r_record = []\n",
    "\n",
    "#function\n",
    "def sigmod(x, w1, w0):\n",
    "    return 1/(1 + math.exp(-w1 * x - w0))\n",
    "\n",
    "def piecewise(x):\n",
    "    if x < 1:\n",
    "        return 0\n",
    "    elif x > 1 and x < 3:\n",
    "        return 0.5 * (x + 1)\n",
    "    elif x > 3:\n",
    "        return 1\n",
    "    else:\n",
    "        return None\n",
    "\n",
    "#\n",
    "for iteration in range(iteration_time):\n",
    "    x = random.uniform(-4,4)\n",
    "    zeta = random.uniform(0,1)\n",
    "    y = sigmod(x, w1_set, w0_set)\n",
    "    outcome = piecewise(y)\n",
    "    x_record.append(float(x))\n",
    "    r_record.append(float(outcome))\n",
    "    print('iteration : {}, x : {}, {}'.format(iteration, round(x,2), outcome))\n",
    "\n",
    "\n",
    "epoch = 100\n",
    "sum1 = 0.0\n",
    "sum2 = 0.0\n",
    "sum_en = 0.0\n",
    "print('sum1 = {}, sum2 = {}'.format(sum1, sum2))\n",
    "\n",
    "for iteration2 in range(epoch):\n",
    "    sum2 = 0.0\n",
    "    sum1 = 0.0\n",
    "    sum_en = 0.0\n",
    "    for i in range(30):\n",
    "        y = sigmod(x_record[i],w1,w0)\n",
    "        sum1 = sum1 + (r_record[i] - y) * x_record[i]\n",
    "        sum2 = sum2 + (r_record[i] - y)\n",
    "        #computing cross entropy\n",
    "        sum_en = sum_en - (r_record[i] * math.log(y) + (1 - r_record[i]) * math.log(1 - y))\n",
    "    w1 = w1 + eta * sum1\n",
    "    w0 = w0 + eta * sum2\n",
    "    if iteration2 % 10 == 0:\n",
    "        print('iteration : {}, w1 : {}, w0 : {}, sum1 : {}, sum2 : {}, sum_en : {}'.format(iteration2, round(w1,2), round(w0,2), round(sum1,2), round(sum2,2), round(sum_en,2)))\n",
    "print('final_result: w1 : {}, w0 : {}'.format(round(w1,2), round(w0,2)))"
   ]
  },
  {
   "cell_type": "code",
   "execution_count": 7,
   "metadata": {},
   "outputs": [],
   "source": [
    "def y(x):\n",
    "    if x < 1:\n",
    "        return 0\n",
    "    elif x > 1 and x < 3:\n",
    "        return 0.5 * (x + 1)\n",
    "    elif x > 3:\n",
    "        return 1\n",
    "    else:\n",
    "        return None"
   ]
  },
  {
   "cell_type": "code",
   "execution_count": null,
   "metadata": {},
   "outputs": [],
   "source": []
  },
  {
   "cell_type": "code",
   "execution_count": 11,
   "metadata": {},
   "outputs": [],
   "source": [
    "#class 1 data is from Gaussian distribution with mean (0,0) and sigma 1\n",
    "#class 2 data is from Gaussian distribution with mean (2,0) and sigma 2\n",
    "#100 data points are generated\n",
    "#error rate for class 1 falling outside the circle is calculated\n",
    "#error rate for class 2 falling inside the circle is calculated\n",
    "#in the textbook error rate 1 = 0.1056 and out answer = 10%\n",
    "#in the textbook error rate 2 = 0.2642 and out answer = 26%"
   ]
  },
  {
   "cell_type": "code",
   "execution_count": 12,
   "metadata": {},
   "outputs": [
    {
     "name": "stdout",
     "output_type": "stream",
     "text": [
      "error_rate1 = 8\n",
      "error_rate2 = 25\n"
     ]
    }
   ],
   "source": [
    "import random\n",
    "x1_record = []\n",
    "x2_record = []\n",
    "x1 = 0.0\n",
    "x2 = 0.0\n",
    "y1 = 0.0\n",
    "y2 = 0.0\n",
    "count1_error = 0\n",
    "count2_error = 0\n",
    "\n",
    "#decision boundary\n",
    "\n",
    "for i in range(100):\n",
    "    x1 = random.gauss(0,1)\n",
    "    x2 = random.gauss(0,1)\n",
    "    x1_record.append(x1)\n",
    "    x2_record.append(x2)\n",
    "    if (x1 + 0.667)**2 + x2**2 > 2.34**2:\n",
    "        count1_error = count1_error + 1\n",
    "    else:\n",
    "        pass\n",
    "print('error_rate1 = {}'.format(count1_error))\n",
    "\n",
    "for i in range(100):\n",
    "    y1 = 2.0 + random.gauss(0,2)\n",
    "    y2 = 0.0 + random.gauss(0,2)\n",
    "    if (y1 + 0.667)**2 + y2**2 < 2.34**2:\n",
    "        count2_error = count2_error + 1\n",
    "    else:\n",
    "        pass\n",
    "print('error_rate2 = {}'.format(count2_error))"
   ]
  },
  {
   "cell_type": "code",
   "execution_count": null,
   "metadata": {},
   "outputs": [],
   "source": []
  }
 ],
 "metadata": {
  "kernelspec": {
   "display_name": "Python 3.6.9 64-bit",
   "language": "python",
   "name": "python3"
  },
  "language_info": {
   "codemirror_mode": {
    "name": "ipython",
    "version": 3
   },
   "file_extension": ".py",
   "mimetype": "text/x-python",
   "name": "python",
   "nbconvert_exporter": "python",
   "pygments_lexer": "ipython3",
   "version": "3.6.9"
  },
  "orig_nbformat": 4,
  "vscode": {
   "interpreter": {
    "hash": "31f2aee4e71d21fbe5cf8b01ff0e069b9275f58929596ceb00d14d90e3e16cd6"
   }
  }
 },
 "nbformat": 4,
 "nbformat_minor": 2
}
